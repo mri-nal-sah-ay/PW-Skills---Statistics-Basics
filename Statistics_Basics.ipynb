{
  "nbformat": 4,
  "nbformat_minor": 0,
  "metadata": {
    "colab": {
      "provenance": [],
      "gpuType": "T4"
    },
    "kernelspec": {
      "name": "python3",
      "display_name": "Python 3"
    },
    "language_info": {
      "name": "python"
    },
    "accelerator": "GPU"
  },
  "cells": [
    {
      "cell_type": "markdown",
      "source": [
        "# **Assignment PW Skills - Statistics Basics - Mrinal Sahay**"
      ],
      "metadata": {
        "id": "UeHO5PCAQedw"
      }
    },
    {
      "cell_type": "markdown",
      "source": [
        "**Theorey Questions**"
      ],
      "metadata": {
        "id": "mtvcpCHLQuS-"
      }
    },
    {
      "cell_type": "markdown",
      "source": [
        "Q1. What is statistics, and why is it important ?\n",
        "\n",
        "*   Statistics is the science of collecting, organizing, analyzing, and interpreting data to understand patterns or make decisions. It’s important because it helps us make sense of information, predict trends, and solve problems in everyday life, like in business, medicine, or weather forecasting.\n"
      ],
      "metadata": {
        "id": "lIzhndGmQ0S1"
      }
    },
    {
      "cell_type": "markdown",
      "source": [
        "Q2. What are the two main types of statistics ?\n",
        "\n",
        "\n",
        "\n",
        "*   Descriptive Statistics: Summarizing and describing data (e.g., averages).\n",
        "* Inferential Statistics: Making predictions or conclusions about a larger group based on a smaller sample.\n",
        "\n"
      ],
      "metadata": {
        "id": "Yuz-Hb4GReny"
      }
    },
    {
      "cell_type": "markdown",
      "source": [
        "Q3. What are descriptive statistics ?\n",
        "\n",
        "*   Descriptive statistics are tools like averages, percentages, or charts that summarize and describe data in a simple way so we can understand it better without guessing about anything beyond the data.\n",
        "\n"
      ],
      "metadata": {
        "id": "F8Rs48m3RtOP"
      }
    },
    {
      "cell_type": "markdown",
      "source": [
        "Q4. What is inferential statistics ?\n",
        "\n",
        "*   Inferential statistics uses data from a small group (sample) to make guesses or predictions about a bigger group (population). For example, polling a few people to predict an election result.\n",
        "\n"
      ],
      "metadata": {
        "id": "P20HEMZdRyxY"
      }
    },
    {
      "cell_type": "markdown",
      "source": [
        "Q5. What is sampling in statistics ?\n",
        "\n",
        "*   Sampling is picking a smaller group from a larger one to study, so you don’t have to look at everything. It saves time and money while still giving useful information.\n"
      ],
      "metadata": {
        "id": "flGrQGhCR5J0"
      }
    },
    {
      "cell_type": "markdown",
      "source": [
        "Q6. What are the different types of sampling method ?\n",
        "\n",
        "  Some common sampling methods are:\n",
        "\n",
        "  * Random Sampling: Everyone has an equal chance of being picked (like a lottery).\n",
        "  * Stratified Sampling: Divide the group into smaller groups (e.g., by age) and pick from each.\n",
        "  * Systematic Sampling: Pick every nth person (e.g., every 5th person on a list).\n",
        "  * Convenience Sampling: Choose whoever is easy to reach (e.g., people nearby).\n"
      ],
      "metadata": {
        "id": "jA2paHyzR_TO"
      }
    },
    {
      "cell_type": "markdown",
      "source": [
        "Q7. What is the difference between random and non-random sampling ?\n",
        "\n",
        "*   Random Sampling: Everyone has an equal chance of being chosen, so it’s fair and unbiased.\n",
        "* Non-Random Sampling: The choice isn’t equal (e.g., picking only friends), which can lead to biased results.\n",
        "\n"
      ],
      "metadata": {
        "id": "ZVhKFQmkS9iL"
      }
    },
    {
      "cell_type": "markdown",
      "source": [
        "Q8. Define and give examples of qualitative and quantitative data ?\n",
        "\n",
        "*   Qualitative Data: Describes qualities or categories, not numbers. Example: Colors (red, blue).\n",
        "* Quantitative Data: Involves numbers or amounts. Example: Heights (5 ft, 6 ft).\n",
        "\n"
      ],
      "metadata": {
        "id": "MyRe1Q1HS7I1"
      }
    },
    {
      "cell_type": "markdown",
      "source": [
        "Q9. What are the different types of data in statistics ?\n",
        "\n",
        "  Data can be:\n",
        "\n",
        "  * Qualitative: Descriptive (e.g., eye color).\n",
        "  * Quantitative: Numerical, split into discrete (countable, like 3 apples) or continuous (measurable, like 2.5 liters).\n",
        "\n"
      ],
      "metadata": {
        "id": "YR6sVMUHTbWK"
      }
    },
    {
      "cell_type": "markdown",
      "source": [
        "Q10. Explain nominal, ordinal, interval, and ratio levels of measurement ?\n",
        "\n",
        "*   Nominal: Categories with no order (e.g., types of fruit: apple, banana).\n",
        "* Ordinal: Categories with order but no equal gaps (e.g., ranks: 1st, 2nd, 3rd).\n",
        "* Interval: Numbers with equal gaps but no true zero (e.g., temperature in Celsius).\n",
        "* Ratio: Numbers with equal gaps and a true zero (e.g., height in inches).\n"
      ],
      "metadata": {
        "id": "BMD71fq0Tn5i"
      }
    },
    {
      "cell_type": "markdown",
      "source": [
        "Q11. What is the measure of central tendency ?\n",
        "\n",
        "*   It’s a way to find the “center” or typical value of a dataset, like the average, to summarize it in one number.\n",
        "\n"
      ],
      "metadata": {
        "id": "nOps4YnzT22C"
      }
    },
    {
      "cell_type": "markdown",
      "source": [
        "Q12. Define mean, median, and mode ?\n",
        "\n",
        "*   Mean: The average (add all numbers and divide by how many there are).\n",
        "* Median: The middle number when data is sorted (half above, half below).\n",
        "* Mode: The number that appears most often."
      ],
      "metadata": {
        "id": "7EZNc2o0T9LO"
      }
    },
    {
      "cell_type": "markdown",
      "source": [
        "Q13. What is the significance of the measure of central tendency ?\n",
        "\n",
        "*   It gives a quick snapshot of the data’s center, helping us understand what’s typical or normal in a group, like average test scores in a class.\n",
        "\n"
      ],
      "metadata": {
        "id": "iCauWx_sUE_a"
      }
    },
    {
      "cell_type": "markdown",
      "source": [
        "Q14. What is variance, and how is it calculated ?\n",
        "\n",
        "*   Variance measures how spread out data is from the average. You calculate it by finding the average of the squared differences between each number and the mean.\n"
      ],
      "metadata": {
        "id": "3iWifQzXULA6"
      }
    },
    {
      "cell_type": "markdown",
      "source": [
        "Q15. What is standard deviation, and why is it important ?\n",
        "\n",
        "*   Standard deviation is the square root of variance. It shows how much data varies from the average in the same units as the data, making it easier to understand spread. It’s important because it tells us how consistent or unpredictable the data is.\n"
      ],
      "metadata": {
        "id": "XMZCIp-bUQ1J"
      }
    },
    {
      "cell_type": "markdown",
      "source": [
        "Q16.  Define and explain the term range in statistics ?\n",
        "\n",
        "*   Range is the difference between the highest and lowest values in a dataset. It’s a simple way to see how spread out the data is (e.g., if scores are 50 to 100, range is 50).\n",
        "\n"
      ],
      "metadata": {
        "id": "x-UPCLaaUWum"
      }
    },
    {
      "cell_type": "markdown",
      "source": [
        "Q17. What is the difference between variance and standard deviation ?\n",
        "\n",
        "*   Variance is the average of squared differences from the mean (big numbers, squared units). Standard deviation is the square root of variance (same units as data), making it easier to interpret.\n",
        "\n"
      ],
      "metadata": {
        "id": "mhxuqvu9Uesj"
      }
    },
    {
      "cell_type": "markdown",
      "source": [
        "Q18. What is skewness in a dataset ?\n",
        "\n",
        "*   Skewness shows if a dataset leans to one side. If most values are small with a few big ones, it’s skewed right (positive). If most are big with a few small ones, it’s skewed left (negative).\n",
        "\n"
      ],
      "metadata": {
        "id": "byeBpvc1UlS1"
      }
    },
    {
      "cell_type": "markdown",
      "source": [
        "Q19.  What does it mean if a dataset is positively or negatively skewed ?\n",
        "\n",
        "*   Positively Skewed: Tail on the right (higher values), like income data where few people earn a lot.\n",
        "* Negatively Skewed: Tail on the left (lower values), like age at death where few die young.\n",
        "\n"
      ],
      "metadata": {
        "id": "9wNDtsvQUrTH"
      }
    },
    {
      "cell_type": "markdown",
      "source": [
        "Q20. Define and explain kurtosis ?\n",
        "\n",
        "*   Kurtosis measures how “tailed” or “peaked” a dataset is compared to a normal curve. High kurtosis means heavy tails or a sharp peak; low kurtosis means flatter with lighter tails.\n",
        "\n"
      ],
      "metadata": {
        "id": "S6cDUwnsUy_F"
      }
    },
    {
      "cell_type": "markdown",
      "source": [
        "Q21. What is the purpose of covariance ?\n",
        "\n",
        "*   Covariance shows if two sets of data move together. If one increases as the other does, it’s positive. If one decreases as the other increases, it’s negative. It helps understand relationships.\n",
        "\n"
      ],
      "metadata": {
        "id": "fTVO4M0IU4y2"
      }
    },
    {
      "cell_type": "markdown",
      "source": [
        "Q22. What does correlation measure in statistics ?\n",
        "\n",
        "*   Correlation measures how strongly two datasets are related and if they move together (positive) or opposite (negative). It’s a number between -1 and 1.\n",
        "\n"
      ],
      "metadata": {
        "id": "yjZi82X5U_Hc"
      }
    },
    {
      "cell_type": "markdown",
      "source": [
        "Q23. What is the difference between covariance and correlation ?\n",
        "\n",
        "*   Covariance shows direction of relationship but not strength (units vary). Correlation standardizes it to a scale (-1 to 1), showing both direction and strength, making it easier to compare.\n",
        "\n"
      ],
      "metadata": {
        "id": "-X-_PbJwVFWB"
      }
    },
    {
      "cell_type": "markdown",
      "source": [
        "Q24. What are some real-world applications of statistics ?\n",
        "\n",
        "\n",
        "\n",
        "*   Medicine: Testing if a drug works by comparing patient results.\n",
        "* Business: Predicting sales based on past data.\n",
        "* Weather: Forecasting rain using historical patterns.\n",
        "* Sports: Analyzing player performance to build better teams.\n",
        "\n",
        "\n"
      ],
      "metadata": {
        "id": "S01KvJe_VLgP"
      }
    },
    {
      "cell_type": "markdown",
      "source": [
        "**Practical Questions**"
      ],
      "metadata": {
        "id": "QBtlNtzQI1Gw"
      }
    },
    {
      "cell_type": "markdown",
      "source": [
        "Q1. How do you calculate the mean, median, and mode of a dataset ?"
      ],
      "metadata": {
        "id": "U31nQHrNJbo2"
      }
    },
    {
      "cell_type": "code",
      "source": [
        "import numpy as np\n",
        "from scipy import stats\n",
        "\n",
        "# Taking user input\n",
        "data = list(map(int, input(\"Enter numbers: \").split()))\n",
        "\n",
        "mean_value = np.mean(data)\n",
        "median_value = np.median(data)\n",
        "mode_result = stats.mode(data, keepdims=True)\n",
        "mode_value = mode_result.mode[0] if mode_result.mode.size > 0 else None\n",
        "\n",
        "print(f\"Mean: {mean_value}, Median: {median_value}, Mode: {mode_value}\")"
      ],
      "metadata": {
        "colab": {
          "base_uri": "https://localhost:8080/"
        },
        "id": "B0qLwrACJdXJ",
        "outputId": "6f23fd60-dc57-45ab-e1aa-ef6d5df144be"
      },
      "execution_count": null,
      "outputs": [
        {
          "output_type": "stream",
          "name": "stdout",
          "text": [
            "Enter numbers: 10 20 30 40 50 20 10\n",
            "Mean: 25.714285714285715, Median: 20.0, Mode: 10\n"
          ]
        }
      ]
    },
    {
      "cell_type": "markdown",
      "source": [
        "Q2. Write a Python program to compute the variance and standard deviation of a dataset ?"
      ],
      "metadata": {
        "id": "FkZh_J35KMgr"
      }
    },
    {
      "cell_type": "code",
      "source": [
        "data = list(map(float, input(\"Enter dataset: \").split()))\n",
        "\n",
        "variance = np.var(data, ddof=1)  # Sample Variance\n",
        "std_dev = np.std(data, ddof=1)  # Sample Standard Deviation\n",
        "\n",
        "print(f\"Variance: {variance}, Standard Deviation: {std_dev}\")"
      ],
      "metadata": {
        "colab": {
          "base_uri": "https://localhost:8080/"
        },
        "id": "hfeIrHgMKQZg",
        "outputId": "84c54ca7-677d-439a-9bcb-d13e47de1c07"
      },
      "execution_count": null,
      "outputs": [
        {
          "output_type": "stream",
          "name": "stdout",
          "text": [
            "Enter dataset: 4 8 6 5 3 7\n",
            "Variance: 3.5, Standard Deviation: 1.8708286933869707\n"
          ]
        }
      ]
    },
    {
      "cell_type": "markdown",
      "source": [
        "Q3. Create a dataset and classify it into nominal, ordinal, interval, and ratio types ?"
      ],
      "metadata": {
        "id": "wTpJzWK9KXfL"
      }
    },
    {
      "cell_type": "code",
      "source": [
        "nominal = [\"Red\", \"Blue\", \"Green\"]\n",
        "ordinal = [\"Low\", \"Medium\", \"High\"]\n",
        "interval = [-5, 0, 5, 10]  # No absolute zero, like temperature in Celsius\n",
        "ratio = [10, 20, 30, 40]  # Has a meaningful zero, like weight or height\n",
        "\n",
        "print(f\"Nominal Data: {nominal}\")\n",
        "print(f\"Ordinal Data: {ordinal}\")\n",
        "print(f\"Interval Data: {interval}\")\n",
        "print(f\"Ratio Data: {ratio}\")"
      ],
      "metadata": {
        "colab": {
          "base_uri": "https://localhost:8080/"
        },
        "id": "Amfgfk6MKavb",
        "outputId": "76ee8f2b-7e98-40c7-c0d8-1bed9790a5fd"
      },
      "execution_count": null,
      "outputs": [
        {
          "output_type": "stream",
          "name": "stdout",
          "text": [
            "Nominal Data: ['Red', 'Blue', 'Green']\n",
            "Ordinal Data: ['Low', 'Medium', 'High']\n",
            "Interval Data: [-5, 0, 5, 10]\n",
            "Ratio Data: [10, 20, 30, 40]\n"
          ]
        }
      ]
    },
    {
      "cell_type": "markdown",
      "source": [
        "Q4.  Implement sampling techniques like random sampling and stratified sampling ?"
      ],
      "metadata": {
        "id": "SaZWCql3Kdk0"
      }
    },
    {
      "cell_type": "code",
      "source": [
        "import numpy as np\n",
        "import pandas as pd\n",
        "\n",
        "# Create dataset\n",
        "data = np.arange(1, 101)  # Example population\n",
        "\n",
        "# Simple Random Sampling\n",
        "random_sample = np.random.choice(data, size=10, replace=False)\n",
        "print(f\"Random Sample: {random_sample}\")\n",
        "\n",
        "# Creating a dataset with categorical groups\n",
        "df = pd.DataFrame({'Category': ['A']*50 + ['B']*50, 'Value': np.random.randint(1, 100, 100)})\n",
        "\n",
        "# Stratified Sampling (fixing the warning)\n",
        "stratified_sample = df.groupby('Category', group_keys=False, as_index=False).apply(lambda x: x.sample(5))\n",
        "print(\"Stratified Sample:\\n\", stratified_sample)"
      ],
      "metadata": {
        "colab": {
          "base_uri": "https://localhost:8080/"
        },
        "id": "4fwXKrbBKhCQ",
        "outputId": "8e2ad0b2-daea-4a2a-941f-8f9e11058f85"
      },
      "execution_count": null,
      "outputs": [
        {
          "output_type": "stream",
          "name": "stdout",
          "text": [
            "Random Sample: [51 86 64 13 89 80 52 36 76 82]\n",
            "Stratified Sample:\n",
            "    Category  Value\n",
            "41        A     49\n",
            "37        A      9\n",
            "35        A     76\n",
            "21        A     64\n",
            "33        A     73\n",
            "83        B     46\n",
            "55        B     84\n",
            "95        B     76\n",
            "50        B     79\n",
            "73        B      5\n"
          ]
        },
        {
          "output_type": "stream",
          "name": "stderr",
          "text": [
            "<ipython-input-10-b9e11771528e>:15: DeprecationWarning: DataFrameGroupBy.apply operated on the grouping columns. This behavior is deprecated, and in a future version of pandas the grouping columns will be excluded from the operation. Either pass `include_groups=False` to exclude the groupings or explicitly select the grouping columns after groupby to silence this warning.\n",
            "  stratified_sample = df.groupby('Category', group_keys=False, as_index=False).apply(lambda x: x.sample(5))\n"
          ]
        }
      ]
    },
    {
      "cell_type": "markdown",
      "source": [
        "Q5. Write a Python function to calculate the range of a dataset ?"
      ],
      "metadata": {
        "id": "CdXpqMMNK-vK"
      }
    },
    {
      "cell_type": "code",
      "source": [
        "def calculate_range(data):\n",
        "    return max(data) - min(data)\n",
        "\n",
        "data = list(map(int, input(\"Enter dataset: \").split()))\n",
        "print(\"Range:\", calculate_range(data))"
      ],
      "metadata": {
        "colab": {
          "base_uri": "https://localhost:8080/"
        },
        "id": "oo6d4lGhLBrz",
        "outputId": "f2e57b33-c487-4c5c-8839-73d9bae97847"
      },
      "execution_count": null,
      "outputs": [
        {
          "output_type": "stream",
          "name": "stdout",
          "text": [
            "Enter dataset: 4 13 89 80 52 3\n",
            "Range: 86\n"
          ]
        }
      ]
    },
    {
      "cell_type": "markdown",
      "source": [
        "Q6. Create a dataset and plot its histogram to visualize skewness ?"
      ],
      "metadata": {
        "id": "L1pG1u_xLO4o"
      }
    },
    {
      "cell_type": "code",
      "source": [
        "import matplotlib.pyplot as plt\n",
        "\n",
        "data = np.random.gamma(2, 2, 1000)  # Example skewed data\n",
        "plt.hist(data, bins=30, edgecolor='black')\n",
        "plt.xlabel(\"Value\")\n",
        "plt.ylabel(\"Frequency\")\n",
        "plt.title(\"Histogram Showing Skewness\")\n",
        "plt.show()"
      ],
      "metadata": {
        "colab": {
          "base_uri": "https://localhost:8080/",
          "height": 472
        },
        "id": "bsZG8ciHLSHH",
        "outputId": "d0694c86-1450-46c1-ce1e-d5d79f1417a5"
      },
      "execution_count": null,
      "outputs": [
        {
          "output_type": "display_data",
          "data": {
            "text/plain": [
              "<Figure size 640x480 with 1 Axes>"
            ],
            "image/png": "[encoded data removed]"
          },
          "metadata": {}
        }
      ]
    },
    {
      "cell_type": "markdown",
      "source": [
        "Q7. Calculate skewness and kurtosis of a dataset using Python libraries ?"
      ],
      "metadata": {
        "id": "mfWR49-aLVzd"
      }
    },
    {
      "cell_type": "code",
      "source": [
        "from scipy.stats import skew, kurtosis\n",
        "\n",
        "data = np.random.normal(0, 1, 1000)\n",
        "print(f\"Skewness: {skew(data)}, Kurtosis: {kurtosis(data)}\")"
      ],
      "metadata": {
        "colab": {
          "base_uri": "https://localhost:8080/"
        },
        "id": "uYlBvA7cLZrc",
        "outputId": "fce2484b-76eb-4b86-d8ec-05d8cf539e0a"
      },
      "execution_count": null,
      "outputs": [
        {
          "output_type": "stream",
          "name": "stdout",
          "text": [
            "Skewness: -0.08217623213110707, Kurtosis: -0.15588184859815302\n"
          ]
        }
      ]
    },
    {
      "cell_type": "markdown",
      "source": [
        "Q8.  Generate a dataset and demonstrate positive and negative skewness ?"
      ],
      "metadata": {
        "id": "jR7nu_ASLjJl"
      }
    },
    {
      "cell_type": "code",
      "source": [
        "pos_skew = np.random.gamma(2, 2, 1000)\n",
        "neg_skew = -np.random.gamma(2, 2, 1000)\n",
        "\n",
        "plt.figure(figsize=(10,5))\n",
        "plt.hist(pos_skew, bins=30, alpha=0.5, label=\"Positive Skew\")\n",
        "plt.hist(neg_skew, bins=30, alpha=0.5, label=\"Negative Skew\")\n",
        "plt.legend()\n",
        "plt.show()"
      ],
      "metadata": {
        "colab": {
          "base_uri": "https://localhost:8080/",
          "height": 445
        },
        "id": "y74FmwiXLnT8",
        "outputId": "280a488e-48dc-4e61-ed98-1430c904a5f3"
      },
      "execution_count": null,
      "outputs": [
        {
          "output_type": "display_data",
          "data": {
            "text/plain": [
              "<Figure size 1000x500 with 1 Axes>"
            ],
            "image/png": "[encoded data removed]"
          },
          "metadata": {}
        }
      ]
    },
    {
      "cell_type": "markdown",
      "source": [
        "Q9. Write a Python script to calculate covariance between two datasets ?"
      ],
      "metadata": {
        "id": "l2fKs4UiLt_C"
      }
    },
    {
      "cell_type": "code",
      "source": [
        "x = np.array([2, 8, 10, 12, 14])\n",
        "y = np.array([5, 20, 40, 80, 100])\n",
        "cov_matrix = np.cov(x, y, bias=False)\n",
        "print(\"Covariance Matrix:\\n\", cov_matrix)"
      ],
      "metadata": {
        "colab": {
          "base_uri": "https://localhost:8080/"
        },
        "id": "ZxwBr5QaLx15",
        "outputId": "9a0afe1f-a144-46ca-b416-ac4d7e6e8cd8"
      },
      "execution_count": null,
      "outputs": [
        {
          "output_type": "stream",
          "name": "stdout",
          "text": [
            "Covariance Matrix:\n",
            " [[  21.2  169. ]\n",
            " [ 169.  1605. ]]\n"
          ]
        }
      ]
    },
    {
      "cell_type": "markdown",
      "source": [
        "Q10. Write a Python script to calculate the correlation coefficient between two datasets ?"
      ],
      "metadata": {
        "id": "9-7A8PfUL1eG"
      }
    },
    {
      "cell_type": "code",
      "source": [
        "corr_coeff = np.corrcoef(x, y)[0,1]\n",
        "print(f\"Correlation Coefficient: {corr_coeff}\")"
      ],
      "metadata": {
        "colab": {
          "base_uri": "https://localhost:8080/"
        },
        "id": "cssGKX64MNci",
        "outputId": "662fa4e6-cfe5-46d4-8e48-986d58b79320"
      },
      "execution_count": null,
      "outputs": [
        {
          "output_type": "stream",
          "name": "stdout",
          "text": [
            "Correlation Coefficient: 0.9161809467485633\n"
          ]
        }
      ]
    },
    {
      "cell_type": "markdown",
      "source": [
        "Q11. Create a scatter plot to visualize the relationship between two variables ?"
      ],
      "metadata": {
        "id": "K97PbS_4MUKM"
      }
    },
    {
      "cell_type": "code",
      "source": [
        "plt.scatter(x, y)\n",
        "plt.xlabel(\"X values\")\n",
        "plt.ylabel(\"Y values\")\n",
        "plt.title(\"Scatter Plot\")\n",
        "plt.show()"
      ],
      "metadata": {
        "colab": {
          "base_uri": "https://localhost:8080/",
          "height": 472
        },
        "id": "FireyzwUMXkS",
        "outputId": "81c1a5b6-731b-48c9-b7e3-7f5255833bac"
      },
      "execution_count": null,
      "outputs": [
        {
          "output_type": "display_data",
          "data": {
            "text/plain": [
              "<Figure size 640x480 with 1 Axes>"
            ],
            "image/png": "[encoded data removed]"
          },
          "metadata": {}
        }
      ]
    },
    {
      "cell_type": "markdown",
      "source": [
        "Q12. Implement and compare simple random sampling and systematic sampling ?"
      ],
      "metadata": {
        "id": "8x6JijHtMaU9"
      }
    },
    {
      "cell_type": "code",
      "source": [
        "data = np.arange(1, 101)\n",
        "random_sample = np.random.choice(data, size=10, replace=False)\n",
        "systematic_sample = data[::10]\n",
        "\n",
        "print(\"Simple Random Sample:\", random_sample)\n",
        "print(\"Systematic Sample:\", systematic_sample)"
      ],
      "metadata": {
        "colab": {
          "base_uri": "https://localhost:8080/"
        },
        "id": "1Co4WAJOMdk9",
        "outputId": "f3a21c4e-134d-4035-f4d0-82e1f6f5dc5e"
      },
      "execution_count": null,
      "outputs": [
        {
          "output_type": "stream",
          "name": "stdout",
          "text": [
            "Simple Random Sample: [ 99  60  39  49  77  26  72  23  30 100]\n",
            "Systematic Sample: [ 1 11 21 31 41 51 61 71 81 91]\n"
          ]
        }
      ]
    },
    {
      "cell_type": "markdown",
      "source": [
        "Q13. Calculate the mean, median, and mode of grouped data ?"
      ],
      "metadata": {
        "id": "SpGsUh3YMgLI"
      }
    },
    {
      "cell_type": "code",
      "source": [
        "from statistics import mean, median, mode\n",
        "\n",
        "data = [10, 20, 20, 30, 30, 30, 40, 50]\n",
        "print(f\"Mean: {mean(data)}, Median: {median(data)}, Mode: {mode(data)}\")"
      ],
      "metadata": {
        "colab": {
          "base_uri": "https://localhost:8080/"
        },
        "id": "qwu52OqNMi8f",
        "outputId": "8cba8a9c-040b-4f5b-e54e-298389666f74"
      },
      "execution_count": null,
      "outputs": [
        {
          "output_type": "stream",
          "name": "stdout",
          "text": [
            "Mean: 28.75, Median: 30.0, Mode: 30\n"
          ]
        }
      ]
    },
    {
      "cell_type": "markdown",
      "source": [
        "Q14. Simulate data using Python and calculate its central tendency and dispersion ?"
      ],
      "metadata": {
        "id": "LShNt54dMlUi"
      }
    },
    {
      "cell_type": "code",
      "source": [
        "data = np.random.normal(50, 15, 1000)\n",
        "print(f\"Mean: {np.mean(data)}, Std Dev: {np.std(data)}, Variance: {np.var(data)}\")"
      ],
      "metadata": {
        "colab": {
          "base_uri": "https://localhost:8080/"
        },
        "id": "0-DnQd_JM1S4",
        "outputId": "3ed623ff-31cb-4822-f46b-474e46e86b90"
      },
      "execution_count": null,
      "outputs": [
        {
          "output_type": "stream",
          "name": "stdout",
          "text": [
            "Mean: 49.82019522215002, Std Dev: 15.066310568504411, Variance: 226.9937141466277\n"
          ]
        }
      ]
    },
    {
      "cell_type": "markdown",
      "source": [
        "Q15. Use NumPy or pandas to summarize a dataset’s descriptive statistics ?"
      ],
      "metadata": {
        "id": "CsJdsnFaM3WK"
      }
    },
    {
      "cell_type": "code",
      "source": [
        "import pandas as pd\n",
        "\n",
        "df = pd.DataFrame({'Values': np.random.normal(50, 15, 1000)})\n",
        "print(df.describe())"
      ],
      "metadata": {
        "colab": {
          "base_uri": "https://localhost:8080/"
        },
        "id": "8eneg2BfM6VV",
        "outputId": "362df8a9-aba6-4936-cf0a-c25c3595146c"
      },
      "execution_count": null,
      "outputs": [
        {
          "output_type": "stream",
          "name": "stdout",
          "text": [
            "            Values\n",
            "count  1000.000000\n",
            "mean     49.495515\n",
            "std      15.181864\n",
            "min      -1.386930\n",
            "25%      39.135704\n",
            "50%      49.865267\n",
            "75%      59.868724\n",
            "max      98.131529\n"
          ]
        }
      ]
    },
    {
      "cell_type": "markdown",
      "source": [
        "Q16. Plot a boxplot to understand the spread and identify outliers ?"
      ],
      "metadata": {
        "id": "FGmcs-K8M8oS"
      }
    },
    {
      "cell_type": "code",
      "source": [
        "import seaborn as sns\n",
        "\n",
        "sns.boxplot(x=df['Values'])\n",
        "plt.show()"
      ],
      "metadata": {
        "colab": {
          "base_uri": "https://localhost:8080/",
          "height": 449
        },
        "id": "NJJmfW_eM_8t",
        "outputId": "3dec563c-8860-45b9-ee62-853acf697836"
      },
      "execution_count": null,
      "outputs": [
        {
          "output_type": "display_data",
          "data": {
            "text/plain": [
              "<Figure size 640x480 with 1 Axes>"
            ],
            "image/png": "[encoded data removed]"
          },
          "metadata": {}
        }
      ]
    },
    {
      "cell_type": "markdown",
      "source": [
        "Q17. Calculate the interquartile range (IQR) of a dataset ?"
      ],
      "metadata": {
        "id": "6XLen1SfNINr"
      }
    },
    {
      "cell_type": "code",
      "source": [
        "Q1 = np.percentile(data, 25)\n",
        "Q3 = np.percentile(data, 75)\n",
        "IQR = Q3 - Q1\n",
        "print(f\"IQR: {IQR}\")"
      ],
      "metadata": {
        "colab": {
          "base_uri": "https://localhost:8080/"
        },
        "id": "dhaKvweUNOc-",
        "outputId": "56bc73b2-2707-49c0-cc1f-ed78fa2a4a87"
      },
      "execution_count": null,
      "outputs": [
        {
          "output_type": "stream",
          "name": "stdout",
          "text": [
            "IQR: 19.972472609465527\n"
          ]
        }
      ]
    },
    {
      "cell_type": "markdown",
      "source": [
        "Q18.  Implement Z-score normalization and explain its significance ?"
      ],
      "metadata": {
        "id": "RpfiDH-PNS23"
      }
    },
    {
      "cell_type": "code",
      "source": [
        "from scipy.stats import zscore\n",
        "\n",
        "z_scores = zscore(data)\n",
        "print(\"Normalized Data:\\n\", z_scores)"
      ],
      "metadata": {
        "colab": {
          "base_uri": "https://localhost:8080/"
        },
        "id": "L82HIBPdNWav",
        "outputId": "c0ffe163-38c0-487d-a783-fe0f96daf946"
      },
      "execution_count": null,
      "outputs": [
        {
          "output_type": "stream",
          "name": "stdout",
          "text": [
            "Normalized Data:\n",
            " [ 1.92443430e+00 -1.08230807e-01 -2.33322482e+00  6.59149656e-01\n",
            "  3.56839564e-01  1.01659932e-01 -2.06278378e-01 -7.91784942e-01\n",
            "  1.52024067e+00 -1.81828425e+00 -2.95667039e-01 -3.18943233e-01\n",
            "  8.61619821e-01  1.24215642e+00 -2.13801671e-01  2.04050789e-01\n",
            "  2.88697553e-01  1.06062452e+00  1.04011937e+00 -5.24109625e-01\n",
            "  4.47908316e-01  3.93499234e-01 -1.03465571e-01  3.84070855e-01\n",
            "  3.20331380e-02  1.69129911e-01 -1.33810396e+00 -9.01986969e-01\n",
            "  8.26090592e-01 -1.19332555e+00  4.79974369e-01 -6.91333776e-02\n",
            "  1.03805279e+00  6.57879238e-01 -4.39349949e-01 -2.10331549e-01\n",
            " -1.96486474e+00 -1.17889973e-01 -1.25262428e+00 -2.05809550e-01\n",
            " -6.23176370e-01 -8.60836712e-01  1.19443127e+00 -1.25865975e+00\n",
            " -9.46892198e-01 -6.83203816e-01 -4.67066312e-01 -8.60985364e-01\n",
            " -3.45633563e-01  3.12758688e-01  6.78844771e-01  6.30507655e-01\n",
            " -1.88786988e+00  3.90456785e-01  4.51887815e-01 -6.47549533e-01\n",
            "  1.67227854e+00  1.09481337e+00 -1.70284620e-01 -5.81411073e-01\n",
            "  1.65611027e+00 -6.99582619e-03  9.65970160e-02  8.40719252e-02\n",
            "  2.30490216e+00 -2.03628099e-01 -1.16036951e-02 -8.15470723e-01\n",
            " -3.75850931e-01 -1.01491855e+00 -7.95230787e-01 -1.79005138e+00\n",
            "  8.89578990e-01  1.67990686e-01  2.49991140e-01 -4.02732850e-02\n",
            "  8.33843850e-02  1.62394707e+00 -7.53455005e-01  2.89065908e-01\n",
            "  2.83723869e-01  1.14889728e+00  4.48658411e-01  4.98701219e-01\n",
            " -1.24079739e+00 -7.93407944e-01 -1.14981841e+00 -2.45304064e+00\n",
            "  4.07385391e-01 -2.48543119e-01  4.09249503e-01  4.72673109e-02\n",
            "  2.51312323e-01  1.34416026e+00  1.91972093e-02  6.77979058e-01\n",
            " -2.88979209e-01  8.33092250e-01 -1.22224747e+00 -1.81753443e+00\n",
            "  2.10932276e+00  1.84015635e+00 -1.92501758e+00 -2.40201548e-02\n",
            "  1.61190752e-01  7.31723832e-01  1.74348843e+00 -1.04480449e+00\n",
            " -9.91312540e-01  1.07682059e-02 -9.47402861e-01 -2.69025696e+00\n",
            " -2.14305697e-01  8.65703871e-01 -8.44307600e-03  6.33232909e-01\n",
            "  4.90823404e-01 -1.01053138e+00  7.96563922e-02 -1.50651381e+00\n",
            " -4.97723388e-01  6.21653550e-02  1.07866344e-02 -1.27331892e+00\n",
            " -1.07226832e+00  3.01613272e-01  8.35686099e-01 -1.94122351e-01\n",
            " -2.43961214e-01  9.39111451e-01 -7.56733832e-01  1.73136271e+00\n",
            " -1.32741760e+00  1.05581587e+00  5.48729060e-01  2.41144721e+00\n",
            " -1.10430055e+00 -2.31181602e+00  1.25588147e+00 -1.45292358e+00\n",
            "  6.25000535e-01  1.18888237e+00  3.90023571e-01  2.43093228e-01\n",
            "  4.11109626e-01  8.45670419e-01  5.96418878e-01 -1.19929509e+00\n",
            "  1.82890167e+00  6.28173232e-02  5.27994464e-01  7.19794006e-01\n",
            "  1.16277450e+00  1.05941047e+00  1.43091248e-01  7.91037754e-02\n",
            "  4.18746812e-01  1.10715359e+00 -1.09579053e+00  6.53194826e-01\n",
            " -8.70487452e-01  1.85500010e+00  3.77631755e-01 -4.02262307e-01\n",
            "  4.38763941e-01  2.10953864e-02 -1.47547712e-01 -1.78932818e+00\n",
            " -1.00775105e+00 -1.27900703e-01 -1.66898905e+00 -5.72657761e-01\n",
            " -4.85740463e-01 -7.64077879e-01  7.80889716e-01 -8.64361248e-01\n",
            "  9.99539305e-02 -3.39675369e-01 -1.06340179e-01  1.61126481e+00\n",
            "  1.90829735e-01  3.83325309e-01 -7.50114069e-01  6.35328065e-01\n",
            "  5.93333938e-01  4.97396808e-01 -1.19192070e+00 -5.70737172e-01\n",
            "  1.43920475e+00 -6.72783304e-01  1.57501235e+00 -5.32057523e-01\n",
            "  1.59498046e-01 -1.74411229e-01 -8.29152857e-01 -8.14819916e-01\n",
            " -6.89209231e-01  1.59346841e-01  8.98432803e-01  9.47248872e-02\n",
            " -2.12971032e-02  1.21698511e+00  5.30904649e-02 -5.28540100e-01\n",
            " -9.81415545e-01  1.27678996e+00 -3.16013523e-01 -5.64093120e-01\n",
            " -6.50181976e-01  1.22078083e+00 -5.58517965e-01  9.98037713e-01\n",
            " -2.17459601e-01 -1.19112772e+00 -3.19094088e-01 -2.07145762e-02\n",
            " -1.02729670e-01 -1.27433372e-01 -3.08593756e-01 -7.69620709e-01\n",
            "  2.26245326e-02  5.50501800e-01 -1.44422429e+00  1.30527895e+00\n",
            " -3.66841793e+00  8.68516146e-02  4.75969799e-01 -5.88763077e-01\n",
            " -2.10454422e+00 -8.43641658e-02  1.80883278e-01 -1.13172871e+00\n",
            " -8.14545560e-01  9.70409189e-01  1.29098041e-01 -1.49010270e+00\n",
            "  4.59784332e-01 -9.14489160e-01 -7.59418284e-01  2.08721681e-01\n",
            "  1.15964369e-01 -3.88900342e-01 -4.90055997e-01 -2.37760982e-01\n",
            " -7.65223680e-01  1.09615347e+00 -1.55035306e+00 -2.27884201e-01\n",
            " -1.44104764e+00  9.43816399e-01 -2.29309639e-01 -1.04008370e+00\n",
            "  6.93966789e-01 -2.26990909e+00  2.91582012e-01  1.15815631e+00\n",
            "  1.90687570e-01 -4.92346941e-01 -1.22478058e+00  1.08968445e+00\n",
            "  9.35274272e-01 -6.30587206e-01 -6.03980509e-01  1.19347807e+00\n",
            "  5.41207613e-01 -1.76678691e+00 -1.82906842e-01 -2.19598682e-01\n",
            "  2.58478799e-01  1.79536334e-02 -4.98520365e-01  1.89508875e-01\n",
            " -4.33872655e-01  3.41109457e+00  1.34121973e-01 -2.70054562e-03\n",
            "  1.84663113e+00 -1.34640435e+00 -9.75546287e-02 -9.33489421e-01\n",
            "  6.44149447e-01 -4.80239500e-01  5.89474826e-01  5.17749168e-01\n",
            "  7.88871878e-01  5.34144483e-01 -2.11119113e-01 -1.37956706e+00\n",
            "  1.01657794e+00  1.41476017e+00 -9.21806293e-01  7.44572810e-01\n",
            " -1.15327746e+00  2.14471047e-01  4.19552753e-01 -4.12409647e-01\n",
            "  1.06587231e-01  8.56404247e-01 -9.70007086e-02 -6.60231830e-01\n",
            " -1.20645883e+00 -3.77110288e-01 -1.15761711e+00 -3.63788833e-01\n",
            " -4.51260588e-01  8.12500132e-01  8.50858619e-02  2.54798280e+00\n",
            " -1.99279270e+00  3.23926434e-01 -4.37634647e-01 -9.39898621e-01\n",
            " -1.77042442e-02 -9.22222598e-02  1.08500332e+00  1.02791023e-01\n",
            " -6.77818169e-01  3.44673848e-01 -2.16706583e-01 -1.10859081e+00\n",
            " -2.35517232e-01  2.41859872e-01  8.38985248e-02  3.40793492e-01\n",
            " -5.12233790e-01  3.28148300e-01  1.31521381e-01  1.39599242e-01\n",
            "  4.41483711e-02  2.17844991e+00  1.11717453e+00  3.06025892e-01\n",
            " -7.84751139e-01 -2.79111644e-01  1.62061089e+00 -5.48525608e-01\n",
            " -1.53065988e-01 -2.08494647e-01  3.78202342e-01 -4.22790460e-01\n",
            "  1.88013840e-01 -4.00559156e-01  1.32065944e+00 -6.71322919e-01\n",
            "  9.85276215e-01 -5.70626301e-01 -8.38054551e-01 -6.85774156e-01\n",
            " -1.69196905e+00  4.48602293e-01 -1.14691893e+00 -3.44410008e-01\n",
            "  7.70203740e-01  7.38076845e-01 -1.41342360e+00  3.21111028e-01\n",
            "  1.14740861e+00 -6.22105779e-01  5.23247192e-01 -1.12631352e+00\n",
            "  3.95893809e-01  1.42627831e-01  6.70171312e-01  6.08443324e-01\n",
            " -1.33559237e+00  1.47886464e-01  1.45845324e+00 -2.16375651e+00\n",
            "  9.74604660e-01  1.60658983e+00 -1.46616704e+00 -6.55812931e-01\n",
            "  5.27398833e-01 -8.70290832e-01  1.37050756e+00  1.06617003e+00\n",
            " -1.36693345e+00 -7.27853489e-01  7.78382807e-01  7.39377817e-01\n",
            "  2.22061036e+00 -8.64075398e-01  1.46472969e+00 -8.97957355e-01\n",
            "  5.10053123e-01  9.00349249e-01 -2.96878897e+00  9.19130081e-01\n",
            "  1.39041008e+00  1.10299273e+00  2.05623578e+00  9.72863526e-01\n",
            " -5.22906501e-01  1.24549217e+00 -5.79417860e-01  9.39894107e-02\n",
            "  8.40056616e-01  4.58042937e-01  1.35711955e+00  2.48965565e+00\n",
            " -1.12042389e+00 -3.14956803e-01  3.26920130e-01 -4.49218098e-01\n",
            " -6.34388389e-02  7.84339259e-01  6.52012960e-01  2.58178385e-01\n",
            "  1.59014532e-01 -2.10950599e-01  1.41027541e+00  1.66800208e+00\n",
            "  1.02626418e+00 -1.13238367e+00 -2.49122149e-01  2.10721408e-01\n",
            " -9.24620071e-01  9.06698652e-02  3.40582164e-02  1.09130084e+00\n",
            " -4.84163112e-01  1.17011713e+00 -9.41220195e-01 -8.02305457e-01\n",
            " -3.65758413e-01  5.95954181e-02 -2.39394250e+00  4.69210310e-01\n",
            "  1.71375352e+00  6.60337397e-01 -1.97808489e-01 -1.06788330e+00\n",
            " -1.79310845e+00 -1.62385804e+00 -1.18329789e-01  2.10957121e+00\n",
            " -2.69318065e+00  7.09070284e-01 -6.62798391e-01 -3.22084135e-01\n",
            " -9.21637614e-01 -1.34948613e+00  1.37018506e-01  2.73581051e-01\n",
            "  6.77332756e-01 -1.66589230e+00  8.82059992e-01  8.99816716e-01\n",
            "  4.34559612e-01 -4.07174633e-01  3.19007614e-01 -1.47808653e-01\n",
            "  9.76187877e-01 -3.52996818e-01  1.19483215e-01 -1.71873699e+00\n",
            "  3.15890317e-01 -7.34321248e-01  5.22144954e-01  7.96889069e-01\n",
            " -5.95354072e-01  4.29852625e-02  1.85661143e-01  3.78378020e-01\n",
            "  7.98315693e-01  6.68044932e-01 -3.66284088e-01  1.60322155e+00\n",
            "  7.60612020e-01  1.41089423e+00  3.57115009e-01  4.15953632e-01\n",
            " -1.04741037e-01 -4.29887089e-01  9.82979703e-01  2.75360323e-01\n",
            " -1.19050573e-01 -1.00618993e+00  1.56020532e+00  1.24063970e-01\n",
            " -1.20938924e+00  9.29983329e-02 -1.88101910e-01 -2.28947307e-01\n",
            "  5.85657767e-01 -1.86727071e-01 -2.92220248e-01  1.36834268e+00\n",
            " -1.71997648e+00 -3.92219341e-02  9.36697981e-01  6.36107391e-01\n",
            "  1.02749333e+00  2.02460867e+00  1.70340846e+00 -1.13851469e+00\n",
            " -1.59168008e+00  3.37348076e-01 -1.33622365e+00 -1.90605622e+00\n",
            "  3.26785222e-01  5.76483846e-01  1.71554372e+00  7.76983242e-01\n",
            "  1.92304585e+00  3.65923531e-01 -1.11933500e+00  8.30502635e-01\n",
            "  1.34037468e+00  4.01297366e-01  1.45610046e+00 -1.10774029e-01\n",
            "  5.55430707e-01 -1.61630575e-01  2.38050706e+00  8.49492317e-01\n",
            " -1.09985601e+00  1.85637796e+00 -7.18018625e-01  2.55699077e-02\n",
            "  4.78173915e-01  5.59505551e-01  4.93527470e-01 -1.11612446e+00\n",
            "  4.96825302e-01  1.10773595e+00  1.07908072e+00 -1.28414877e+00\n",
            " -6.40832963e-01 -1.02799022e+00  3.50251618e-01 -1.53288437e+00\n",
            " -1.10586708e+00 -6.50273338e-01 -1.77694777e+00 -1.57425256e-02\n",
            " -2.08528980e+00  4.95142874e-01 -3.83340020e-01 -6.09302675e-01\n",
            " -4.46786525e-01 -4.81860906e-02  6.02191059e-01  1.32323463e+00\n",
            "  1.02137759e+00  2.23380034e+00  6.84259286e-01  1.51631768e-01\n",
            " -4.43086081e-01 -4.09999485e-01  5.48599814e-01 -9.83111113e-01\n",
            "  2.39902586e-01 -6.84763922e-03 -7.12958293e-01 -1.03462952e+00\n",
            "  2.52553982e+00 -1.37849028e+00 -5.55261146e-02  1.22913714e+00\n",
            "  5.38662582e-01 -4.59517181e-01 -1.17496597e+00  1.41149448e-01\n",
            " -2.61596386e+00  1.81053661e-01  4.66075339e-02  1.07734628e+00\n",
            " -1.12637339e+00 -3.10113495e-01  4.46912962e-01  2.16597232e-01\n",
            " -1.32480295e+00 -6.32717687e-01  1.40568443e+00  2.70119253e-01\n",
            " -1.64485773e+00  8.91279050e-01 -1.58029174e+00 -2.93734997e-01\n",
            "  5.72731662e-01  1.22029829e+00 -2.31570023e+00  7.20392450e-01\n",
            "  8.69866204e-01 -5.42629677e-01  1.02443203e-01 -3.02660502e+00\n",
            " -2.72395154e+00  1.11558802e+00 -5.24589190e-01 -3.32754238e-01\n",
            "  2.45577762e-01 -3.52387425e-01 -4.44739088e-01  4.04687045e-01\n",
            " -1.47701980e+00  1.16674679e+00 -2.17302410e-01 -9.89298121e-01\n",
            " -1.12325711e+00  5.43983924e-02 -2.93075126e-01 -1.53008902e+00\n",
            " -5.87252052e-01 -7.93703290e-01  1.26823702e+00  1.41812489e-01\n",
            "  1.57436660e+00 -6.94915224e-01 -2.77916318e-01  3.96786136e-01\n",
            "  6.13407901e-01  7.29752039e-01 -8.71967855e-01 -8.43961248e-01\n",
            " -3.41921751e-01  1.48632325e+00 -9.84344701e-01 -5.12671651e-01\n",
            "  7.38579856e-01  6.85311689e-01  5.64908061e-01  9.24219956e-02\n",
            " -1.04851148e+00 -6.75801425e-01  1.13346644e+00  7.82166591e-01\n",
            " -1.31717508e+00  8.77565159e-01  1.31495241e+00  6.55280936e-02\n",
            "  4.36339239e-01  1.01896762e+00 -6.80720148e-01  2.33127889e+00\n",
            "  1.22962914e+00  5.33655997e-01 -2.24217391e-02  5.04534034e-01\n",
            " -1.54148108e+00  2.08485821e+00  1.13585727e+00  1.46950434e+00\n",
            "  4.25560213e-02 -3.46769246e-01 -6.59405183e-01  8.21928093e-01\n",
            " -4.98357005e-01 -1.74598101e-01  5.55928516e-01 -6.44492222e-01\n",
            "  1.05128632e+00 -5.72876751e-03 -1.48954748e+00 -6.55119603e-01\n",
            "  1.31436203e+00 -9.20944305e-01  9.02076658e-01  1.33072149e-01\n",
            " -1.59010379e-01  2.51346983e+00 -1.26662986e+00 -7.24941866e-01\n",
            " -1.13927199e-02  2.41705131e+00 -9.07407779e-03  2.84980111e-01\n",
            " -3.22423177e-01  3.68984393e-01 -2.60678041e-01  7.04196545e-01\n",
            "  7.82714164e-01 -2.21140580e-01 -1.10859229e+00  1.05092250e-01\n",
            "  1.40788489e+00 -8.11088028e-01  3.44381467e-01 -1.18849944e+00\n",
            " -1.02329666e+00  1.30657683e+00  7.00424000e-01  3.59363475e-01\n",
            " -2.29962034e+00 -5.38525225e-01  6.16077492e-01 -1.43075358e+00\n",
            " -3.40393625e-01  7.75213705e-01 -1.49255359e+00 -1.65996140e+00\n",
            " -1.47531918e+00  3.44947287e-01 -5.42612813e-01  8.86118344e-01\n",
            "  1.32419981e-01  1.88419225e+00 -1.22010150e+00  3.42245723e-01\n",
            " -7.79780606e-01  6.09505242e-01  1.31342250e-01 -9.76815625e-01\n",
            " -1.44526353e-01  8.47105819e-02 -5.84737005e-01  7.35900999e-01\n",
            " -1.01462029e+00  2.09373974e+00  9.61427101e-01  3.59140450e-01\n",
            "  2.84472557e+00 -2.96003298e-01  6.20619278e-01  2.33634619e-01\n",
            "  8.05892068e-01  1.50146582e+00  5.58467542e-01  1.04914293e+00\n",
            " -5.36031369e-01 -1.93308603e-01  1.64301128e+00  6.06163479e-01\n",
            "  2.59164938e-01 -7.37994767e-01  9.74276080e-01 -7.66091770e-01\n",
            " -1.05949516e+00  1.26354162e-01 -2.37998434e+00  6.20321444e-01\n",
            "  3.87219399e-01 -3.39316555e-01 -2.49030284e-01 -1.06861516e-01\n",
            " -7.73720005e-01  1.95694505e-01 -2.36363054e-01  1.23891451e-01\n",
            " -1.43108958e-01 -3.39042879e-01  2.89201136e-01  7.89596256e-01\n",
            " -5.10525279e-01  4.05666943e-01  5.29078496e-01 -1.26627905e+00\n",
            "  9.84180688e-01  2.05933461e+00 -7.57737322e-02 -1.58507708e-01\n",
            " -2.00134441e-01  6.29808542e-01  5.20464691e-01 -1.57172608e+00\n",
            " -8.50374809e-01  5.17014268e-01 -1.32449266e-01 -1.14905131e+00\n",
            "  1.50559139e+00 -7.84259302e-01  4.75538855e-02 -1.58829986e-01\n",
            " -1.06200700e+00  1.96074998e-01  4.02315351e-01 -4.53683446e-01\n",
            " -3.22778371e-01  6.09778378e-01 -1.95451096e+00 -8.29350551e-01\n",
            "  2.24429744e-01 -5.12486192e-01 -5.26713633e-01  9.09658201e-01\n",
            " -6.18602637e-01  1.98240162e+00 -1.73485631e+00 -2.19032407e+00\n",
            "  8.87001973e-01 -9.67686418e-01 -9.50883030e-01  9.92333446e-01\n",
            " -4.83145756e-01  9.18289315e-01 -5.95791141e-01  3.72870158e-01\n",
            " -4.97237355e-01 -9.03829726e-01  1.73491878e+00  1.12348258e+00\n",
            " -7.11508330e-01 -1.65676644e-01  1.48166379e+00 -9.71936784e-01\n",
            " -9.18062568e-01  4.79925847e-01  2.27243578e+00  6.55288534e-02\n",
            "  1.05712499e+00 -1.00102752e+00  3.71397489e-01 -3.46097731e-01\n",
            "  1.87034383e+00  1.60358884e+00  2.28131869e+00 -6.80494041e-01\n",
            "  4.72761985e-02  3.85449949e-01 -6.41644132e-01  1.42412621e-01\n",
            "  9.16911626e-01 -5.36009005e-01 -6.88326586e-01 -7.54334103e-01\n",
            " -1.32585419e+00  8.62168460e-01 -6.90628287e-01 -7.95603218e-01\n",
            "  5.38675495e-01  1.36493035e-03 -5.11283143e-01  8.18995260e-01\n",
            " -5.51023236e-01 -2.15543544e+00  1.33930928e+00 -8.12616155e-01\n",
            " -7.03855656e-01 -6.99457979e-01  7.12728977e-02 -2.61101221e-01\n",
            "  9.95656594e-01  1.64980767e+00 -6.64275926e-01 -9.21944793e-01\n",
            " -5.07670130e-01  4.49060114e-01 -1.03914608e-01 -4.86274848e-01\n",
            " -1.27936780e+00 -2.18723275e+00 -9.88361317e-01  1.27078508e+00\n",
            "  4.46008088e-01 -1.78758101e-01  7.38509051e-01 -1.27028063e+00\n",
            "  6.84345080e-02 -1.76655871e+00  3.56430338e-01  2.70307213e-01\n",
            "  2.93995541e-01  1.17441333e+00  7.84513679e-01 -1.19165866e+00\n",
            "  1.18944811e+00 -1.96595871e-01 -1.94954316e+00 -9.63427369e-02\n",
            "  6.56215142e-01 -9.97455456e-01  1.33892623e+00 -9.07318587e-01\n",
            " -4.67040325e-01 -6.49877634e-01 -1.68952036e+00 -9.76828368e-01\n",
            " -6.96792008e-01 -1.17598680e-01 -2.97633003e+00  7.25333523e-01\n",
            "  7.15497683e-01  1.18819557e+00 -1.47315610e+00 -2.79608369e-01\n",
            "  9.49226356e-01  1.03490778e+00  1.48435602e+00  1.14197128e-01\n",
            " -4.37932756e-02 -1.53915805e+00  1.07212364e+00 -4.46354057e-01\n",
            "  4.57258223e-02 -2.07507093e-02 -2.37217857e+00 -7.95950079e-01\n",
            "  4.63817953e-01 -3.64377371e-02  4.71724606e-01  7.92331263e-01\n",
            " -8.07683067e-01 -5.00948749e-01 -1.28631499e-01  7.82028821e-01\n",
            " -2.21133487e-01 -1.76132388e+00 -1.85376392e-01  7.41977373e-01\n",
            "  1.36298107e+00  2.91275267e-01 -1.46752221e+00 -3.92647980e-01\n",
            "  4.84900531e-01  8.74336560e-01  5.16774067e-01 -2.38565923e-01\n",
            "  8.66671118e-01 -6.25811579e-01  1.95770614e-01  7.58421639e-01\n",
            "  5.86032117e-01  6.08392432e-01  5.83323279e-01 -1.03214409e+00\n",
            "  2.94145023e-02 -8.93309416e-01 -2.76265782e-01 -1.15176135e+00\n",
            "  3.55382650e-01 -1.94456840e+00  6.26498613e-01  2.72144659e-02\n",
            "  1.90572200e+00 -1.91765429e-01 -1.92060669e-01  6.91462516e-01\n",
            " -1.33913736e-01  2.85557427e-01  1.00195767e+00 -2.54403211e-01\n",
            "  1.20193376e+00 -1.65980934e+00  1.60835679e+00 -1.76836169e+00\n",
            "  1.35817023e+00 -1.84631348e+00  1.98380130e+00  1.72102385e-01\n",
            " -9.28791335e-01  1.86884514e+00 -1.07214346e+00 -2.14419011e-01\n",
            "  2.60518253e+00  4.05731521e-01 -2.00516358e+00 -2.60155163e-01\n",
            " -3.48233042e-01  1.99621395e-01 -3.23131398e-02  5.55382302e-01\n",
            " -1.50939468e+00 -5.33557356e-01  3.22405358e-01 -7.46853205e-01\n",
            "  1.10305429e+00 -7.26936287e-01  1.54632490e-01 -9.25607960e-02\n",
            " -9.98280784e-01  7.21589868e-02 -1.29422379e+00 -4.29724556e-01\n",
            "  4.20751379e-02 -1.40912189e+00  6.32691683e-01  2.71162923e-01\n",
            "  5.41593536e-01  1.43924366e-02 -1.13368491e+00  1.18616962e-02\n",
            "  6.32288906e-01 -1.17313572e+00 -1.09400277e+00 -2.33067080e-01\n",
            " -3.57760994e-01 -4.15846608e-03 -2.78479883e-01  1.71229576e-01\n",
            "  1.22837472e+00  5.47953035e-01  6.78387445e-02 -1.08990641e+00\n",
            " -7.06874718e-01  8.49963726e-01 -4.54489246e-01 -9.51558584e-01\n",
            "  2.10073338e+00  1.52968408e+00 -1.11971441e-01 -1.06596520e+00\n",
            "  7.32109393e-01 -4.75976860e-01  8.96556337e-01 -4.74966738e-01\n",
            "  1.65008800e+00 -5.04524293e-01  2.36625993e+00  2.06133515e-01]\n"
          ]
        }
      ]
    },
    {
      "cell_type": "markdown",
      "source": [
        "Q19. Compare two datasets using their standard deviations ?"
      ],
      "metadata": {
        "id": "JveUWx41NaCb"
      }
    },
    {
      "cell_type": "code",
      "source": [
        "data1 = np.random.normal(50, 10, 1000)\n",
        "data2 = np.random.normal(50, 20, 1000)\n",
        "print(f\"SD of Data1: {np.std(data1)}, SD of Data2: {np.std(data2)}\")"
      ],
      "metadata": {
        "colab": {
          "base_uri": "https://localhost:8080/"
        },
        "id": "9t8x6Q29NfOq",
        "outputId": "258f14e7-fdd8-4425-d55b-96db92a34963"
      },
      "execution_count": null,
      "outputs": [
        {
          "output_type": "stream",
          "name": "stdout",
          "text": [
            "SD of Data1: 9.687337234040516, SD of Data2: 20.51309694938158\n"
          ]
        }
      ]
    },
    {
      "cell_type": "markdown",
      "source": [
        "Q20. Write a Python program to visualize covariance using a heatmap ?"
      ],
      "metadata": {
        "id": "vO_A2QthNilj"
      }
    },
    {
      "cell_type": "code",
      "source": [
        "import seaborn as sns\n",
        "\n",
        "df = pd.DataFrame({'X': x, 'Y': y})\n",
        "sns.heatmap(df.cov(), annot=True, cmap=\"coolwarm\")\n",
        "plt.show()"
      ],
      "metadata": {
        "colab": {
          "base_uri": "https://localhost:8080/",
          "height": 434
        },
        "id": "aHtoAp6ENl3O",
        "outputId": "e0fa463a-cfbd-4bb2-94f6-0842570834fd"
      },
      "execution_count": null,
      "outputs": [
        {
          "output_type": "display_data",
          "data": {
            "text/plain": [
              "<Figure size 640x480 with 2 Axes>"
            ],
            "image/png": "[encoded data removed]"
          },
          "metadata": {}
        }
      ]
    },
    {
      "cell_type": "markdown",
      "source": [
        "Q21. Use seaborn to create a correlation matrix for a dataset ?"
      ],
      "metadata": {
        "id": "bfFHdzEhNppi"
      }
    },
    {
      "cell_type": "code",
      "source": [
        "sns.heatmap(df.corr(), annot=True, cmap=\"coolwarm\")\n",
        "plt.show()"
      ],
      "metadata": {
        "colab": {
          "base_uri": "https://localhost:8080/",
          "height": 435
        },
        "id": "tgj8tFlUNtUe",
        "outputId": "d92d4c26-42dc-49f8-91f9-d385e5e0ec93"
      },
      "execution_count": null,
      "outputs": [
        {
          "output_type": "display_data",
          "data": {
            "text/plain": [
              "<Figure size 640x480 with 2 Axes>"
            ],
            "image/png": "[encoded data removed]"
          },
          "metadata": {}
        }
      ]
    },
    {
      "cell_type": "markdown",
      "source": [
        "Q22. Generate a dataset and implement both variance and standard deviation computations ?"
      ],
      "metadata": {
        "id": "V1Kb_PoiNvmh"
      }
    },
    {
      "cell_type": "code",
      "source": [
        "from scipy.stats import spearmanr, pearsonr\n",
        "\n",
        "print(f\"Pearson Correlation: {pearsonr(x, y)[0]}\")\n",
        "print(f\"Spearman Correlation: {spearmanr(x, y)[0]}\")"
      ],
      "metadata": {
        "colab": {
          "base_uri": "https://localhost:8080/"
        },
        "id": "zx63yD0CN5vb",
        "outputId": "b467544c-2da1-4832-a007-b668e93f2b3e"
      },
      "execution_count": null,
      "outputs": [
        {
          "output_type": "stream",
          "name": "stdout",
          "text": [
            "Pearson Correlation: 0.9161809467485633\n",
            "Spearman Correlation: 0.9999999999999999\n"
          ]
        }
      ]
    },
    {
      "cell_type": "markdown",
      "source": [
        "Q23. Visualize skewness and kurtosis using Python libraries like matplotlib or seaborn ?"
      ],
      "metadata": {
        "id": "BuQW-AogN7_U"
      }
    },
    {
      "cell_type": "code",
      "source": [
        "import numpy as np\n",
        "import seaborn as sns\n",
        "import matplotlib.pyplot as plt\n",
        "from scipy.stats import skew, kurtosis\n",
        "\n",
        "data = np.random.gamma(2, 2, 1000)\n",
        "\n",
        "skewness = skew(data)\n",
        "kurt = kurtosis(data)\n",
        "\n",
        "plt.figure(figsize=(10, 5))\n",
        "sns.histplot(data, kde=True, bins=30, color='blue')\n",
        "plt.axvline(np.mean(data), color='red', linestyle='dashed', label='Mean')\n",
        "plt.title(f\"Histogram of Data\\nSkewness: {skewness:.2f}, Kurtosis: {kurt:.2f}\")\n",
        "plt.legend()\n",
        "plt.show()"
      ],
      "metadata": {
        "colab": {
          "base_uri": "https://localhost:8080/",
          "height": 488
        },
        "id": "CVET-LxOOc0v",
        "outputId": "73375450-d4ce-4d22-97f4-242cacbd904d"
      },
      "execution_count": null,
      "outputs": [
        {
          "output_type": "display_data",
          "data": {
            "text/plain": [
              "<Figure size 1000x500 with 1 Axes>"
            ],
            "image/png": "[encoded data removed]"
          },
          "metadata": {}
        }
      ]
    },
    {
      "cell_type": "markdown",
      "source": [
        "Q24. Implement the Pearson and Spearman correlation coefficients for a dataset ?"
      ],
      "metadata": {
        "id": "bi4kschyOk_c"
      }
    },
    {
      "cell_type": "code",
      "source": [
        "import pandas as pd\n",
        "from scipy.stats import pearsonr, spearmanr\n",
        "\n",
        "np.random.seed(42)\n",
        "x = np.random.rand(50) * 100\n",
        "y = x * 1.5 + np.random.normal(0, 10, 50)\n",
        "\n",
        "df = pd.DataFrame({'X': x, 'Y': y})\n",
        "\n",
        "pearson_corr, _ = pearsonr(df['X'], df['Y'])\n",
        "spearman_corr, _ = spearmanr(df['X'], df['Y'])\n",
        "\n",
        "print(f\"Pearson Correlation: {pearson_corr:.2f}\")\n",
        "print(f\"Spearman Correlation: {spearman_corr:.2f}\")\n",
        "\n",
        "sns.lmplot(x='X', y='Y', data=df)\n",
        "plt.title(f\"Scatter Plot of X vs Y\\nPearson: {pearson_corr:.2f}, Spearman: {spearman_corr:.2f}\")\n",
        "plt.show()"
      ],
      "metadata": {
        "colab": {
          "base_uri": "https://localhost:8080/",
          "height": 585
        },
        "id": "MjA0Qe4eOq3n",
        "outputId": "33c6e6bf-53dd-4b31-e89b-ef43903134e8"
      },
      "execution_count": null,
      "outputs": [
        {
          "output_type": "stream",
          "name": "stdout",
          "text": [
            "Pearson Correlation: 0.98\n",
            "Spearman Correlation: 0.97\n"
          ]
        },
        {
          "output_type": "display_data",
          "data": {
            "text/plain": [
              "<Figure size 500x500 with 1 Axes>"
            ],
            "image/png": "[encoded data removed]"
          },
          "metadata": {}
        }
      ]
    }
  ]
}